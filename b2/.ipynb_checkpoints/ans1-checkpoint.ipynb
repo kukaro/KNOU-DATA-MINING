{
 "cells": [
  {
   "cell_type": "code",
   "execution_count": 1,
   "id": "b72141c4",
   "metadata": {},
   "outputs": [],
   "source": [
    "wine <- read.csv('../ch1/data/winequalityCLASS.csv', header=T);"
   ]
  },
  {
   "cell_type": "code",
   "execution_count": 3,
   "id": "42eb58b3",
   "metadata": {},
   "outputs": [],
   "source": [
    "fit.all <- glm(quality ~ alcohol, family=binomial, data=wine)"
   ]
  },
  {
   "cell_type": "code",
   "execution_count": 4,
   "id": "e1075013",
   "metadata": {},
   "outputs": [
    {
     "data": {
      "text/plain": [
       "\n",
       "Call:  glm(formula = quality ~ alcohol, family = binomial, data = wine)\n",
       "\n",
       "Coefficients:\n",
       "(Intercept)      alcohol  \n",
       "    -11.871        1.171  \n",
       "\n",
       "Degrees of Freedom: 1193 Total (i.e. Null);  1192 Residual\n",
       "Null Deviance:\t    1648 \n",
       "Residual Deviance: 1381 \tAIC: 1385"
      ]
     },
     "metadata": {},
     "output_type": "display_data"
    }
   ],
   "source": [
    "fit.all"
   ]
  },
  {
   "cell_type": "code",
   "execution_count": 5,
   "id": "fb992544",
   "metadata": {},
   "outputs": [
    {
     "data": {
      "text/plain": [
       "\n",
       "Call:\n",
       "glm(formula = quality ~ alcohol, family = binomial, data = wine)\n",
       "\n",
       "Deviance Residuals: \n",
       "    Min       1Q   Median       3Q      Max  \n",
       "-2.6035  -0.9251   0.3691   0.9568   1.9246  \n",
       "\n",
       "Coefficients:\n",
       "             Estimate Std. Error z value Pr(>|z|)    \n",
       "(Intercept) -11.87055    0.85910  -13.82   <2e-16 ***\n",
       "alcohol       1.17118    0.08425   13.90   <2e-16 ***\n",
       "---\n",
       "Signif. codes:  0 ‘***’ 0.001 ‘**’ 0.01 ‘*’ 0.05 ‘.’ 0.1 ‘ ’ 1\n",
       "\n",
       "(Dispersion parameter for binomial family taken to be 1)\n",
       "\n",
       "    Null deviance: 1647.5  on 1193  degrees of freedom\n",
       "Residual deviance: 1381.5  on 1192  degrees of freedom\n",
       "AIC: 1385.5\n",
       "\n",
       "Number of Fisher Scoring iterations: 4\n"
      ]
     },
     "metadata": {},
     "output_type": "display_data"
    }
   ],
   "source": [
    "summary(fit.all)"
   ]
  },
  {
   "cell_type": "code",
   "execution_count": 7,
   "id": "92cc8849",
   "metadata": {},
   "outputs": [
    {
     "name": "stdout",
     "output_type": "stream",
     "text": [
      "Start:  AIC=1385.5\n",
      "quality ~ alcohol\n",
      "\n",
      "          Df Deviance    AIC\n",
      "<none>         1381.5 1385.5\n",
      "- alcohol  1   1647.5 1649.5\n"
     ]
    }
   ],
   "source": [
    "fit.step <- step(fit.all, direction='both')"
   ]
  },
  {
   "cell_type": "code",
   "execution_count": 9,
   "id": "632819e0",
   "metadata": {},
   "outputs": [],
   "source": [
    "p <- predict(fit.all, newdata=wine, type=\"response\")"
   ]
  },
  {
   "cell_type": "code",
   "execution_count": 10,
   "id": "ee07b54b",
   "metadata": {},
   "outputs": [
    {
     "data": {
      "text/html": [
       "<table class=\"dataframe\">\n",
       "<caption>A matrix: 1 × 1194 of type dbl</caption>\n",
       "<thead>\n",
       "\t<tr><th scope=col>1</th><th scope=col>2</th><th scope=col>3</th><th scope=col>4</th><th scope=col>5</th><th scope=col>6</th><th scope=col>7</th><th scope=col>8</th><th scope=col>9</th><th scope=col>10</th><th scope=col>⋯</th><th scope=col>1185</th><th scope=col>1186</th><th scope=col>1187</th><th scope=col>1188</th><th scope=col>1189</th><th scope=col>1190</th><th scope=col>1191</th><th scope=col>1192</th><th scope=col>1193</th><th scope=col>1194</th></tr>\n",
       "</thead>\n",
       "<tbody>\n",
       "\t<tr><td>0.2970414</td><td>0.4030065</td><td>0.4030065</td><td>0.4030065</td><td>0.2970414</td><td>0.2970414</td><td>0.2970414</td><td>0.4604039</td><td>0.3220627</td><td>0.2505533</td><td>⋯</td><td>0.9577344</td><td>0.8475065</td><td>0.8475065</td><td>0.7335025</td><td>0.3220627</td><td>0.6051272</td><td>0.7767286</td><td>0.7335025</td><td>0.518871</td><td>0.7335025</td></tr>\n",
       "</tbody>\n",
       "</table>\n"
      ],
      "text/latex": [
       "A matrix: 1 × 1194 of type dbl\n",
       "\\begin{tabular}{lllllllllllllllllllll}\n",
       " 1 & 2 & 3 & 4 & 5 & 6 & 7 & 8 & 9 & 10 & ⋯ & 1185 & 1186 & 1187 & 1188 & 1189 & 1190 & 1191 & 1192 & 1193 & 1194\\\\\n",
       "\\hline\n",
       "\t 0.2970414 & 0.4030065 & 0.4030065 & 0.4030065 & 0.2970414 & 0.2970414 & 0.2970414 & 0.4604039 & 0.3220627 & 0.2505533 & ⋯ & 0.9577344 & 0.8475065 & 0.8475065 & 0.7335025 & 0.3220627 & 0.6051272 & 0.7767286 & 0.7335025 & 0.518871 & 0.7335025\\\\\n",
       "\\end{tabular}\n"
      ],
      "text/markdown": [
       "\n",
       "A matrix: 1 × 1194 of type dbl\n",
       "\n",
       "| 1 | 2 | 3 | 4 | 5 | 6 | 7 | 8 | 9 | 10 | ⋯ | 1185 | 1186 | 1187 | 1188 | 1189 | 1190 | 1191 | 1192 | 1193 | 1194 |\n",
       "|---|---|---|---|---|---|---|---|---|---|---|---|---|---|---|---|---|---|---|---|---|\n",
       "| 0.2970414 | 0.4030065 | 0.4030065 | 0.4030065 | 0.2970414 | 0.2970414 | 0.2970414 | 0.4604039 | 0.3220627 | 0.2505533 | ⋯ | 0.9577344 | 0.8475065 | 0.8475065 | 0.7335025 | 0.3220627 | 0.6051272 | 0.7767286 | 0.7335025 | 0.518871 | 0.7335025 |\n",
       "\n"
      ],
      "text/plain": [
       "     1         2         3         4         5         6         7        \n",
       "[1,] 0.2970414 0.4030065 0.4030065 0.4030065 0.2970414 0.2970414 0.2970414\n",
       "     8         9         10        ⋯ 1185      1186      1187      1188     \n",
       "[1,] 0.4604039 0.3220627 0.2505533 ⋯ 0.9577344 0.8475065 0.8475065 0.7335025\n",
       "     1189      1190      1191      1192      1193     1194     \n",
       "[1,] 0.3220627 0.6051272 0.7767286 0.7335025 0.518871 0.7335025"
      ]
     },
     "metadata": {},
     "output_type": "display_data"
    }
   ],
   "source": [
    "t(p)"
   ]
  },
  {
   "cell_type": "code",
   "execution_count": 11,
   "id": "973ac8bd",
   "metadata": {},
   "outputs": [],
   "source": [
    "cutoff <- 0.5"
   ]
  },
  {
   "cell_type": "code",
   "execution_count": 12,
   "id": "51e4830f",
   "metadata": {},
   "outputs": [],
   "source": [
    "yhat <- ifelse(p > cutoff, 1, 0)"
   ]
  },
  {
   "cell_type": "code",
   "execution_count": 13,
   "id": "f1ddbea9",
   "metadata": {},
   "outputs": [
    {
     "data": {
      "text/html": [
       "<table class=\"dataframe\">\n",
       "<caption>A matrix: 1 × 1194 of type dbl</caption>\n",
       "<thead>\n",
       "\t<tr><th scope=col>1</th><th scope=col>2</th><th scope=col>3</th><th scope=col>4</th><th scope=col>5</th><th scope=col>6</th><th scope=col>7</th><th scope=col>8</th><th scope=col>9</th><th scope=col>10</th><th scope=col>⋯</th><th scope=col>1185</th><th scope=col>1186</th><th scope=col>1187</th><th scope=col>1188</th><th scope=col>1189</th><th scope=col>1190</th><th scope=col>1191</th><th scope=col>1192</th><th scope=col>1193</th><th scope=col>1194</th></tr>\n",
       "</thead>\n",
       "<tbody>\n",
       "\t<tr><td>0</td><td>0</td><td>0</td><td>0</td><td>0</td><td>0</td><td>0</td><td>0</td><td>0</td><td>0</td><td>⋯</td><td>1</td><td>1</td><td>1</td><td>1</td><td>0</td><td>1</td><td>1</td><td>1</td><td>1</td><td>1</td></tr>\n",
       "</tbody>\n",
       "</table>\n"
      ],
      "text/latex": [
       "A matrix: 1 × 1194 of type dbl\n",
       "\\begin{tabular}{lllllllllllllllllllll}\n",
       " 1 & 2 & 3 & 4 & 5 & 6 & 7 & 8 & 9 & 10 & ⋯ & 1185 & 1186 & 1187 & 1188 & 1189 & 1190 & 1191 & 1192 & 1193 & 1194\\\\\n",
       "\\hline\n",
       "\t 0 & 0 & 0 & 0 & 0 & 0 & 0 & 0 & 0 & 0 & ⋯ & 1 & 1 & 1 & 1 & 0 & 1 & 1 & 1 & 1 & 1\\\\\n",
       "\\end{tabular}\n"
      ],
      "text/markdown": [
       "\n",
       "A matrix: 1 × 1194 of type dbl\n",
       "\n",
       "| 1 | 2 | 3 | 4 | 5 | 6 | 7 | 8 | 9 | 10 | ⋯ | 1185 | 1186 | 1187 | 1188 | 1189 | 1190 | 1191 | 1192 | 1193 | 1194 |\n",
       "|---|---|---|---|---|---|---|---|---|---|---|---|---|---|---|---|---|---|---|---|---|\n",
       "| 0 | 0 | 0 | 0 | 0 | 0 | 0 | 0 | 0 | 0 | ⋯ | 1 | 1 | 1 | 1 | 0 | 1 | 1 | 1 | 1 | 1 |\n",
       "\n"
      ],
      "text/plain": [
       "     1 2 3 4 5 6 7 8 9 10 ⋯ 1185 1186 1187 1188 1189 1190 1191 1192 1193 1194\n",
       "[1,] 0 0 0 0 0 0 0 0 0 0  ⋯ 1    1    1    1    0    1    1    1    1    1   "
      ]
     },
     "metadata": {},
     "output_type": "display_data"
    }
   ],
   "source": [
    "t(yhat)"
   ]
  },
  {
   "cell_type": "code",
   "execution_count": 14,
   "id": "f0851010",
   "metadata": {},
   "outputs": [],
   "source": [
    "tab <- table(wine$quality, yhat, dnn=c('Observed', 'Predicated'))"
   ]
  },
  {
   "cell_type": "code",
   "execution_count": 15,
   "id": "9b889d8b",
   "metadata": {},
   "outputs": [
    {
     "data": {
      "text/plain": [
       "        Predicated\n",
       "Observed   0   1\n",
       "       0 409 140\n",
       "       1 204 441"
      ]
     },
     "metadata": {},
     "output_type": "display_data"
    }
   ],
   "source": [
    "tab"
   ]
  },
  {
   "cell_type": "code",
   "execution_count": 16,
   "id": "bf7dcaff",
   "metadata": {},
   "outputs": [
    {
     "data": {
      "text/html": [
       "0.711892797319933"
      ],
      "text/latex": [
       "0.711892797319933"
      ],
      "text/markdown": [
       "0.711892797319933"
      ],
      "text/plain": [
       "[1] 0.7118928"
      ]
     },
     "metadata": {},
     "output_type": "display_data"
    }
   ],
   "source": [
    "sum(diag(tab))/sum(tab) #accuracy"
   ]
  },
  {
   "cell_type": "code",
   "execution_count": 17,
   "id": "910be6f1",
   "metadata": {},
   "outputs": [
    {
     "data": {
      "text/html": [
       "0.683720930232558"
      ],
      "text/latex": [
       "0.683720930232558"
      ],
      "text/markdown": [
       "0.683720930232558"
      ],
      "text/plain": [
       "[1] 0.6837209"
      ]
     },
     "metadata": {},
     "output_type": "display_data"
    }
   ],
   "source": [
    "tab[2,2]/sum(tab[2,]) #sensitivity"
   ]
  },
  {
   "cell_type": "code",
   "execution_count": 18,
   "id": "b5d69f18",
   "metadata": {},
   "outputs": [
    {
     "data": {
      "text/html": [
       "0.744990892531876"
      ],
      "text/latex": [
       "0.744990892531876"
      ],
      "text/markdown": [
       "0.744990892531876"
      ],
      "text/plain": [
       "[1] 0.7449909"
      ]
     },
     "metadata": {},
     "output_type": "display_data"
    }
   ],
   "source": [
    "tab[1,1]/sum(tab[1,]) #specificity"
   ]
  },
  {
   "cell_type": "code",
   "execution_count": null,
   "id": "0f324a35",
   "metadata": {},
   "outputs": [],
   "source": []
  }
 ],
 "metadata": {
  "kernelspec": {
   "display_name": "R",
   "language": "R",
   "name": "ir"
  },
  "language_info": {
   "codemirror_mode": "r",
   "file_extension": ".r",
   "mimetype": "text/x-r-source",
   "name": "R",
   "pygments_lexer": "r",
   "version": "4.0.3"
  }
 },
 "nbformat": 4,
 "nbformat_minor": 5
}
