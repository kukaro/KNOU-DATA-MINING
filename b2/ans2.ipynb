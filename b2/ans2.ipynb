{
 "cells": [
  {
   "cell_type": "code",
   "execution_count": 1,
   "id": "91904634",
   "metadata": {},
   "outputs": [],
   "source": [
    "wine <- read.csv('../ch1/data/winequalityCLASS.csv', header=T);"
   ]
  },
  {
   "cell_type": "code",
   "execution_count": 2,
   "id": "0fd81644",
   "metadata": {},
   "outputs": [],
   "source": [
    "fit.all <- glm(quality ~ sulphates, family=binomial, data=wine)"
   ]
  },
  {
   "cell_type": "code",
   "execution_count": 3,
   "id": "d169f4ed",
   "metadata": {},
   "outputs": [
    {
     "data": {
      "text/plain": [
       "\n",
       "Call:  glm(formula = quality ~ sulphates, family = binomial, data = wine)\n",
       "\n",
       "Coefficients:\n",
       "(Intercept)    sulphates  \n",
       "     -4.514        7.476  \n",
       "\n",
       "Degrees of Freedom: 1193 Total (i.e. Null);  1192 Residual\n",
       "Null Deviance:\t    1648 \n",
       "Residual Deviance: 1475 \tAIC: 1479"
      ]
     },
     "metadata": {},
     "output_type": "display_data"
    }
   ],
   "source": [
    "fit.all"
   ]
  },
  {
   "cell_type": "code",
   "execution_count": 4,
   "id": "e4d510a7",
   "metadata": {},
   "outputs": [
    {
     "data": {
      "text/plain": [
       "\n",
       "Call:\n",
       "glm(formula = quality ~ sulphates, family = binomial, data = wine)\n",
       "\n",
       "Deviance Residuals: \n",
       "    Min       1Q   Median       3Q      Max  \n",
       "-2.3963  -1.0647   0.5334   1.0647   1.8550  \n",
       "\n",
       "Coefficients:\n",
       "            Estimate Std. Error z value Pr(>|z|)    \n",
       "(Intercept)  -4.5135     0.3984  -11.33   <2e-16 ***\n",
       "sulphates     7.4757     0.6374   11.73   <2e-16 ***\n",
       "---\n",
       "Signif. codes:  0 ‘***’ 0.001 ‘**’ 0.01 ‘*’ 0.05 ‘.’ 0.1 ‘ ’ 1\n",
       "\n",
       "(Dispersion parameter for binomial family taken to be 1)\n",
       "\n",
       "    Null deviance: 1647.5  on 1193  degrees of freedom\n",
       "Residual deviance: 1474.6  on 1192  degrees of freedom\n",
       "AIC: 1478.6\n",
       "\n",
       "Number of Fisher Scoring iterations: 3\n"
      ]
     },
     "metadata": {},
     "output_type": "display_data"
    }
   ],
   "source": [
    "summary(fit.all)"
   ]
  },
  {
   "cell_type": "code",
   "execution_count": 5,
   "id": "7920284d",
   "metadata": {},
   "outputs": [
    {
     "name": "stdout",
     "output_type": "stream",
     "text": [
      "Start:  AIC=1478.59\n",
      "quality ~ sulphates\n",
      "\n",
      "            Df Deviance    AIC\n",
      "<none>           1474.6 1478.6\n",
      "- sulphates  1   1647.5 1649.5\n"
     ]
    }
   ],
   "source": [
    "fit.step <- step(fit.all, direction='both')"
   ]
  },
  {
   "cell_type": "code",
   "execution_count": 6,
   "id": "5bafa186",
   "metadata": {},
   "outputs": [],
   "source": [
    "p <- predict(fit.all, newdata=wine, type=\"response\")"
   ]
  },
  {
   "cell_type": "code",
   "execution_count": 7,
   "id": "a54b1c2e",
   "metadata": {},
   "outputs": [
    {
     "data": {
      "text/html": [
       "<table class=\"dataframe\">\n",
       "<caption>A matrix: 1 × 1194 of type dbl</caption>\n",
       "<thead>\n",
       "\t<tr><th scope=col>1</th><th scope=col>2</th><th scope=col>3</th><th scope=col>4</th><th scope=col>5</th><th scope=col>6</th><th scope=col>7</th><th scope=col>8</th><th scope=col>9</th><th scope=col>10</th><th scope=col>⋯</th><th scope=col>1185</th><th scope=col>1186</th><th scope=col>1187</th><th scope=col>1188</th><th scope=col>1189</th><th scope=col>1190</th><th scope=col>1191</th><th scope=col>1192</th><th scope=col>1193</th><th scope=col>1194</th></tr>\n",
       "</thead>\n",
       "<tbody>\n",
       "\t<tr><td>0.4189443</td><td>0.6387586</td><td>0.5855764</td><td>0.4557179</td><td>0.4189443</td><td>0.4189443</td><td>0.2545136</td><td>0.2689562</td><td>0.4372449</td><td>0.3830498</td><td>⋯</td><td>0.7887745</td><td>0.8343234</td><td>0.4189443</td><td>0.7489992</td><td>0.8343234</td><td>0.4557179</td><td>0.7627904</td><td>0.7489992</td><td>0.6887437</td><td>0.6035946</td></tr>\n",
       "</tbody>\n",
       "</table>\n"
      ],
      "text/latex": [
       "A matrix: 1 × 1194 of type dbl\n",
       "\\begin{tabular}{lllllllllllllllllllll}\n",
       " 1 & 2 & 3 & 4 & 5 & 6 & 7 & 8 & 9 & 10 & ⋯ & 1185 & 1186 & 1187 & 1188 & 1189 & 1190 & 1191 & 1192 & 1193 & 1194\\\\\n",
       "\\hline\n",
       "\t 0.4189443 & 0.6387586 & 0.5855764 & 0.4557179 & 0.4189443 & 0.4189443 & 0.2545136 & 0.2689562 & 0.4372449 & 0.3830498 & ⋯ & 0.7887745 & 0.8343234 & 0.4189443 & 0.7489992 & 0.8343234 & 0.4557179 & 0.7627904 & 0.7489992 & 0.6887437 & 0.6035946\\\\\n",
       "\\end{tabular}\n"
      ],
      "text/markdown": [
       "\n",
       "A matrix: 1 × 1194 of type dbl\n",
       "\n",
       "| 1 | 2 | 3 | 4 | 5 | 6 | 7 | 8 | 9 | 10 | ⋯ | 1185 | 1186 | 1187 | 1188 | 1189 | 1190 | 1191 | 1192 | 1193 | 1194 |\n",
       "|---|---|---|---|---|---|---|---|---|---|---|---|---|---|---|---|---|---|---|---|---|\n",
       "| 0.4189443 | 0.6387586 | 0.5855764 | 0.4557179 | 0.4189443 | 0.4189443 | 0.2545136 | 0.2689562 | 0.4372449 | 0.3830498 | ⋯ | 0.7887745 | 0.8343234 | 0.4189443 | 0.7489992 | 0.8343234 | 0.4557179 | 0.7627904 | 0.7489992 | 0.6887437 | 0.6035946 |\n",
       "\n"
      ],
      "text/plain": [
       "     1         2         3         4         5         6         7        \n",
       "[1,] 0.4189443 0.6387586 0.5855764 0.4557179 0.4189443 0.4189443 0.2545136\n",
       "     8         9         10        ⋯ 1185      1186      1187      1188     \n",
       "[1,] 0.2689562 0.4372449 0.3830498 ⋯ 0.7887745 0.8343234 0.4189443 0.7489992\n",
       "     1189      1190      1191      1192      1193      1194     \n",
       "[1,] 0.8343234 0.4557179 0.7627904 0.7489992 0.6887437 0.6035946"
      ]
     },
     "metadata": {},
     "output_type": "display_data"
    }
   ],
   "source": [
    "t(p)"
   ]
  },
  {
   "cell_type": "code",
   "execution_count": 8,
   "id": "3e56e86f",
   "metadata": {},
   "outputs": [],
   "source": [
    "cutoff <- 0.5"
   ]
  },
  {
   "cell_type": "code",
   "execution_count": 9,
   "id": "21858a44",
   "metadata": {},
   "outputs": [],
   "source": [
    "yhat <- ifelse(p > cutoff, 1, 0)"
   ]
  },
  {
   "cell_type": "code",
   "execution_count": 10,
   "id": "eff06077",
   "metadata": {},
   "outputs": [],
   "source": [
    "tab <- table(wine$quality, yhat, dnn=c('Observed', 'Predicated'))"
   ]
  },
  {
   "cell_type": "code",
   "execution_count": 11,
   "id": "1e803f4b",
   "metadata": {},
   "outputs": [
    {
     "data": {
      "text/plain": [
       "        Predicated\n",
       "Observed   0   1\n",
       "       0 345 204\n",
       "       1 220 425"
      ]
     },
     "metadata": {},
     "output_type": "display_data"
    }
   ],
   "source": [
    "tab"
   ]
  },
  {
   "cell_type": "code",
   "execution_count": 12,
   "id": "55c19859",
   "metadata": {},
   "outputs": [
    {
     "data": {
      "text/html": [
       "0.644891122278057"
      ],
      "text/latex": [
       "0.644891122278057"
      ],
      "text/markdown": [
       "0.644891122278057"
      ],
      "text/plain": [
       "[1] 0.6448911"
      ]
     },
     "metadata": {},
     "output_type": "display_data"
    }
   ],
   "source": [
    "sum(diag(tab))/sum(tab) #accuracy"
   ]
  },
  {
   "cell_type": "code",
   "execution_count": 13,
   "id": "67e01f8b",
   "metadata": {},
   "outputs": [
    {
     "data": {
      "text/html": [
       "0.65891472868217"
      ],
      "text/latex": [
       "0.65891472868217"
      ],
      "text/markdown": [
       "0.65891472868217"
      ],
      "text/plain": [
       "[1] 0.6589147"
      ]
     },
     "metadata": {},
     "output_type": "display_data"
    }
   ],
   "source": [
    "tab[2,2]/sum(tab[2,]) #sensitivity"
   ]
  },
  {
   "cell_type": "code",
   "execution_count": 14,
   "id": "a54231ab",
   "metadata": {},
   "outputs": [
    {
     "data": {
      "text/html": [
       "0.628415300546448"
      ],
      "text/latex": [
       "0.628415300546448"
      ],
      "text/markdown": [
       "0.628415300546448"
      ],
      "text/plain": [
       "[1] 0.6284153"
      ]
     },
     "metadata": {},
     "output_type": "display_data"
    }
   ],
   "source": [
    "tab[1,1]/sum(tab[1,]) #specificity"
   ]
  },
  {
   "cell_type": "code",
   "execution_count": null,
   "id": "9d42b0a7",
   "metadata": {},
   "outputs": [],
   "source": []
  }
 ],
 "metadata": {
  "kernelspec": {
   "display_name": "R",
   "language": "R",
   "name": "ir"
  },
  "language_info": {
   "codemirror_mode": "r",
   "file_extension": ".r",
   "mimetype": "text/x-r-source",
   "name": "R",
   "pygments_lexer": "r",
   "version": "4.0.3"
  }
 },
 "nbformat": 4,
 "nbformat_minor": 5
}
