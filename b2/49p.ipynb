{
 "cells": [
  {
   "cell_type": "code",
   "execution_count": 13,
   "id": "8fb796a0",
   "metadata": {},
   "outputs": [],
   "source": [
    "wine <- read.csv('../ch1/data/winequalityCLASS.csv', header=T);"
   ]
  },
  {
   "cell_type": "code",
   "execution_count": 14,
   "id": "e547cbca",
   "metadata": {},
   "outputs": [
    {
     "data": {
      "text/html": [
       "<table class=\"dataframe\">\n",
       "<caption>A matrix: 12 × 1194 of type dbl</caption>\n",
       "<tbody>\n",
       "\t<tr><th scope=row>fixed</th><td> 7.4000</td><td> 7.8000</td><td> 7.800</td><td>11.200</td><td> 7.4000</td><td> 7.4000</td><td> 7.9000</td><td> 7.3000</td><td> 7.8000</td><td> 6.7000</td><td>⋯</td><td>  7.20000</td><td> 6.30000</td><td> 5.40000</td><td> 6.30000</td><td> 6.80000</td><td> 6.2000</td><td> 5.90000</td><td> 6.30000</td><td> 5.90000</td><td> 6.00000</td></tr>\n",
       "\t<tr><th scope=row>volatile</th><td> 0.7000</td><td> 0.8800</td><td> 0.760</td><td> 0.280</td><td> 0.7000</td><td> 0.6600</td><td> 0.6000</td><td> 0.6500</td><td> 0.5800</td><td> 0.5800</td><td>⋯</td><td>  0.66000</td><td> 0.55000</td><td> 0.74000</td><td> 0.51000</td><td> 0.62000</td><td> 0.6000</td><td> 0.55000</td><td> 0.51000</td><td> 0.64500</td><td> 0.31000</td></tr>\n",
       "\t<tr><th scope=row>citric</th><td> 0.0000</td><td> 0.0000</td><td> 0.040</td><td> 0.560</td><td> 0.0000</td><td> 0.0000</td><td> 0.0600</td><td> 0.0000</td><td> 0.0200</td><td> 0.0800</td><td>⋯</td><td>  0.33000</td><td> 0.15000</td><td> 0.09000</td><td> 0.13000</td><td> 0.08000</td><td> 0.0800</td><td> 0.10000</td><td> 0.13000</td><td> 0.12000</td><td> 0.47000</td></tr>\n",
       "\t<tr><th scope=row>residsugar</th><td> 1.9000</td><td> 2.6000</td><td> 2.300</td><td> 1.900</td><td> 1.9000</td><td> 1.8000</td><td> 1.6000</td><td> 1.2000</td><td> 2.0000</td><td> 1.8000</td><td>⋯</td><td>  2.50000</td><td> 1.80000</td><td> 1.70000</td><td> 2.30000</td><td> 1.90000</td><td> 2.0000</td><td> 2.20000</td><td> 2.30000</td><td> 2.00000</td><td> 3.60000</td></tr>\n",
       "\t<tr><th scope=row>chlorides</th><td> 0.0760</td><td> 0.0980</td><td> 0.092</td><td> 0.075</td><td> 0.0760</td><td> 0.0750</td><td> 0.0690</td><td> 0.0650</td><td> 0.0730</td><td> 0.0970</td><td>⋯</td><td>  0.06800</td><td> 0.07700</td><td> 0.08900</td><td> 0.07600</td><td> 0.06800</td><td> 0.0900</td><td> 0.06200</td><td> 0.07600</td><td> 0.07500</td><td> 0.06700</td></tr>\n",
       "\t<tr><th scope=row>freeSD</th><td>11.0000</td><td>25.0000</td><td>15.000</td><td>17.000</td><td>11.0000</td><td>13.0000</td><td>15.0000</td><td>15.0000</td><td> 9.0000</td><td>15.0000</td><td>⋯</td><td> 34.00000</td><td>26.00000</td><td>16.00000</td><td>29.00000</td><td>28.00000</td><td>32.0000</td><td>39.00000</td><td>29.00000</td><td>32.00000</td><td>18.00000</td></tr>\n",
       "\t<tr><th scope=row>totalSD</th><td>34.0000</td><td>67.0000</td><td>54.000</td><td>60.000</td><td>34.0000</td><td>40.0000</td><td>59.0000</td><td>21.0000</td><td>18.0000</td><td>65.0000</td><td>⋯</td><td>102.00000</td><td>35.00000</td><td>26.00000</td><td>40.00000</td><td>38.00000</td><td>44.0000</td><td>51.00000</td><td>40.00000</td><td>44.00000</td><td>42.00000</td></tr>\n",
       "\t<tr><th scope=row>density</th><td> 0.9978</td><td> 0.9968</td><td> 0.997</td><td> 0.998</td><td> 0.9978</td><td> 0.9978</td><td> 0.9964</td><td> 0.9946</td><td> 0.9968</td><td> 0.9959</td><td>⋯</td><td>  0.99414</td><td> 0.99314</td><td> 0.99402</td><td> 0.99574</td><td> 0.99651</td><td> 0.9949</td><td> 0.99512</td><td> 0.99574</td><td> 0.99547</td><td> 0.99549</td></tr>\n",
       "\t<tr><th scope=row>pH</th><td> 3.5100</td><td> 3.2000</td><td> 3.260</td><td> 3.160</td><td> 3.5100</td><td> 3.5100</td><td> 3.3000</td><td> 3.3900</td><td> 3.3600</td><td> 3.2800</td><td>⋯</td><td>  3.27000</td><td> 3.32000</td><td> 3.67000</td><td> 3.42000</td><td> 3.42000</td><td> 3.4500</td><td> 3.52000</td><td> 3.42000</td><td> 3.57000</td><td> 3.39000</td></tr>\n",
       "\t<tr><th scope=row>sulphates</th><td> 0.5600</td><td> 0.6800</td><td> 0.650</td><td> 0.580</td><td> 0.5600</td><td> 0.5600</td><td> 0.4600</td><td> 0.4700</td><td> 0.5700</td><td> 0.5400</td><td>⋯</td><td>  0.78000</td><td> 0.82000</td><td> 0.56000</td><td> 0.75000</td><td> 0.82000</td><td> 0.5800</td><td> 0.76000</td><td> 0.75000</td><td> 0.71000</td><td> 0.66000</td></tr>\n",
       "\t<tr><th scope=row>alcohol</th><td> 9.4000</td><td> 9.8000</td><td> 9.800</td><td> 9.800</td><td> 9.4000</td><td> 9.4000</td><td> 9.4000</td><td>10.0000</td><td> 9.5000</td><td> 9.2000</td><td>⋯</td><td> 12.80000</td><td>11.60000</td><td>11.60000</td><td>11.00000</td><td> 9.50000</td><td>10.5000</td><td>11.20000</td><td>11.00000</td><td>10.20000</td><td>11.00000</td></tr>\n",
       "\t<tr><th scope=row>quality</th><td> 0.0000</td><td> 0.0000</td><td> 0.000</td><td> 1.000</td><td> 0.0000</td><td> 0.0000</td><td> 0.0000</td><td> 1.0000</td><td> 1.0000</td><td> 0.0000</td><td>⋯</td><td>  1.00000</td><td> 1.00000</td><td> 1.00000</td><td> 1.00000</td><td> 1.00000</td><td> 0.0000</td><td> 1.00000</td><td> 1.00000</td><td> 0.00000</td><td> 1.00000</td></tr>\n",
       "</tbody>\n",
       "</table>\n"
      ],
      "text/latex": [
       "A matrix: 12 × 1194 of type dbl\n",
       "\\begin{tabular}{r|lllllllllllllllllllll}\n",
       "\tfixed &  7.4000 &  7.8000 &  7.800 & 11.200 &  7.4000 &  7.4000 &  7.9000 &  7.3000 &  7.8000 &  6.7000 & ⋯ &   7.20000 &  6.30000 &  5.40000 &  6.30000 &  6.80000 &  6.2000 &  5.90000 &  6.30000 &  5.90000 &  6.00000\\\\\n",
       "\tvolatile &  0.7000 &  0.8800 &  0.760 &  0.280 &  0.7000 &  0.6600 &  0.6000 &  0.6500 &  0.5800 &  0.5800 & ⋯ &   0.66000 &  0.55000 &  0.74000 &  0.51000 &  0.62000 &  0.6000 &  0.55000 &  0.51000 &  0.64500 &  0.31000\\\\\n",
       "\tcitric &  0.0000 &  0.0000 &  0.040 &  0.560 &  0.0000 &  0.0000 &  0.0600 &  0.0000 &  0.0200 &  0.0800 & ⋯ &   0.33000 &  0.15000 &  0.09000 &  0.13000 &  0.08000 &  0.0800 &  0.10000 &  0.13000 &  0.12000 &  0.47000\\\\\n",
       "\tresidsugar &  1.9000 &  2.6000 &  2.300 &  1.900 &  1.9000 &  1.8000 &  1.6000 &  1.2000 &  2.0000 &  1.8000 & ⋯ &   2.50000 &  1.80000 &  1.70000 &  2.30000 &  1.90000 &  2.0000 &  2.20000 &  2.30000 &  2.00000 &  3.60000\\\\\n",
       "\tchlorides &  0.0760 &  0.0980 &  0.092 &  0.075 &  0.0760 &  0.0750 &  0.0690 &  0.0650 &  0.0730 &  0.0970 & ⋯ &   0.06800 &  0.07700 &  0.08900 &  0.07600 &  0.06800 &  0.0900 &  0.06200 &  0.07600 &  0.07500 &  0.06700\\\\\n",
       "\tfreeSD & 11.0000 & 25.0000 & 15.000 & 17.000 & 11.0000 & 13.0000 & 15.0000 & 15.0000 &  9.0000 & 15.0000 & ⋯ &  34.00000 & 26.00000 & 16.00000 & 29.00000 & 28.00000 & 32.0000 & 39.00000 & 29.00000 & 32.00000 & 18.00000\\\\\n",
       "\ttotalSD & 34.0000 & 67.0000 & 54.000 & 60.000 & 34.0000 & 40.0000 & 59.0000 & 21.0000 & 18.0000 & 65.0000 & ⋯ & 102.00000 & 35.00000 & 26.00000 & 40.00000 & 38.00000 & 44.0000 & 51.00000 & 40.00000 & 44.00000 & 42.00000\\\\\n",
       "\tdensity &  0.9978 &  0.9968 &  0.997 &  0.998 &  0.9978 &  0.9978 &  0.9964 &  0.9946 &  0.9968 &  0.9959 & ⋯ &   0.99414 &  0.99314 &  0.99402 &  0.99574 &  0.99651 &  0.9949 &  0.99512 &  0.99574 &  0.99547 &  0.99549\\\\\n",
       "\tpH &  3.5100 &  3.2000 &  3.260 &  3.160 &  3.5100 &  3.5100 &  3.3000 &  3.3900 &  3.3600 &  3.2800 & ⋯ &   3.27000 &  3.32000 &  3.67000 &  3.42000 &  3.42000 &  3.4500 &  3.52000 &  3.42000 &  3.57000 &  3.39000\\\\\n",
       "\tsulphates &  0.5600 &  0.6800 &  0.650 &  0.580 &  0.5600 &  0.5600 &  0.4600 &  0.4700 &  0.5700 &  0.5400 & ⋯ &   0.78000 &  0.82000 &  0.56000 &  0.75000 &  0.82000 &  0.5800 &  0.76000 &  0.75000 &  0.71000 &  0.66000\\\\\n",
       "\talcohol &  9.4000 &  9.8000 &  9.800 &  9.800 &  9.4000 &  9.4000 &  9.4000 & 10.0000 &  9.5000 &  9.2000 & ⋯ &  12.80000 & 11.60000 & 11.60000 & 11.00000 &  9.50000 & 10.5000 & 11.20000 & 11.00000 & 10.20000 & 11.00000\\\\\n",
       "\tquality &  0.0000 &  0.0000 &  0.000 &  1.000 &  0.0000 &  0.0000 &  0.0000 &  1.0000 &  1.0000 &  0.0000 & ⋯ &   1.00000 &  1.00000 &  1.00000 &  1.00000 &  1.00000 &  0.0000 &  1.00000 &  1.00000 &  0.00000 &  1.00000\\\\\n",
       "\\end{tabular}\n"
      ],
      "text/markdown": [
       "\n",
       "A matrix: 12 × 1194 of type dbl\n",
       "\n",
       "| fixed |  7.4000 |  7.8000 |  7.800 | 11.200 |  7.4000 |  7.4000 |  7.9000 |  7.3000 |  7.8000 |  6.7000 | ⋯ |   7.20000 |  6.30000 |  5.40000 |  6.30000 |  6.80000 |  6.2000 |  5.90000 |  6.30000 |  5.90000 |  6.00000 |\n",
       "| volatile |  0.7000 |  0.8800 |  0.760 |  0.280 |  0.7000 |  0.6600 |  0.6000 |  0.6500 |  0.5800 |  0.5800 | ⋯ |   0.66000 |  0.55000 |  0.74000 |  0.51000 |  0.62000 |  0.6000 |  0.55000 |  0.51000 |  0.64500 |  0.31000 |\n",
       "| citric |  0.0000 |  0.0000 |  0.040 |  0.560 |  0.0000 |  0.0000 |  0.0600 |  0.0000 |  0.0200 |  0.0800 | ⋯ |   0.33000 |  0.15000 |  0.09000 |  0.13000 |  0.08000 |  0.0800 |  0.10000 |  0.13000 |  0.12000 |  0.47000 |\n",
       "| residsugar |  1.9000 |  2.6000 |  2.300 |  1.900 |  1.9000 |  1.8000 |  1.6000 |  1.2000 |  2.0000 |  1.8000 | ⋯ |   2.50000 |  1.80000 |  1.70000 |  2.30000 |  1.90000 |  2.0000 |  2.20000 |  2.30000 |  2.00000 |  3.60000 |\n",
       "| chlorides |  0.0760 |  0.0980 |  0.092 |  0.075 |  0.0760 |  0.0750 |  0.0690 |  0.0650 |  0.0730 |  0.0970 | ⋯ |   0.06800 |  0.07700 |  0.08900 |  0.07600 |  0.06800 |  0.0900 |  0.06200 |  0.07600 |  0.07500 |  0.06700 |\n",
       "| freeSD | 11.0000 | 25.0000 | 15.000 | 17.000 | 11.0000 | 13.0000 | 15.0000 | 15.0000 |  9.0000 | 15.0000 | ⋯ |  34.00000 | 26.00000 | 16.00000 | 29.00000 | 28.00000 | 32.0000 | 39.00000 | 29.00000 | 32.00000 | 18.00000 |\n",
       "| totalSD | 34.0000 | 67.0000 | 54.000 | 60.000 | 34.0000 | 40.0000 | 59.0000 | 21.0000 | 18.0000 | 65.0000 | ⋯ | 102.00000 | 35.00000 | 26.00000 | 40.00000 | 38.00000 | 44.0000 | 51.00000 | 40.00000 | 44.00000 | 42.00000 |\n",
       "| density |  0.9978 |  0.9968 |  0.997 |  0.998 |  0.9978 |  0.9978 |  0.9964 |  0.9946 |  0.9968 |  0.9959 | ⋯ |   0.99414 |  0.99314 |  0.99402 |  0.99574 |  0.99651 |  0.9949 |  0.99512 |  0.99574 |  0.99547 |  0.99549 |\n",
       "| pH |  3.5100 |  3.2000 |  3.260 |  3.160 |  3.5100 |  3.5100 |  3.3000 |  3.3900 |  3.3600 |  3.2800 | ⋯ |   3.27000 |  3.32000 |  3.67000 |  3.42000 |  3.42000 |  3.4500 |  3.52000 |  3.42000 |  3.57000 |  3.39000 |\n",
       "| sulphates |  0.5600 |  0.6800 |  0.650 |  0.580 |  0.5600 |  0.5600 |  0.4600 |  0.4700 |  0.5700 |  0.5400 | ⋯ |   0.78000 |  0.82000 |  0.56000 |  0.75000 |  0.82000 |  0.5800 |  0.76000 |  0.75000 |  0.71000 |  0.66000 |\n",
       "| alcohol |  9.4000 |  9.8000 |  9.800 |  9.800 |  9.4000 |  9.4000 |  9.4000 | 10.0000 |  9.5000 |  9.2000 | ⋯ |  12.80000 | 11.60000 | 11.60000 | 11.00000 |  9.50000 | 10.5000 | 11.20000 | 11.00000 | 10.20000 | 11.00000 |\n",
       "| quality |  0.0000 |  0.0000 |  0.000 |  1.000 |  0.0000 |  0.0000 |  0.0000 |  1.0000 |  1.0000 |  0.0000 | ⋯ |   1.00000 |  1.00000 |  1.00000 |  1.00000 |  1.00000 |  0.0000 |  1.00000 |  1.00000 |  0.00000 |  1.00000 |\n",
       "\n"
      ],
      "text/plain": [
       "           [,1]    [,2]    [,3]   [,4]   [,5]    [,6]    [,7]    [,8]   \n",
       "fixed       7.4000  7.8000  7.800 11.200  7.4000  7.4000  7.9000  7.3000\n",
       "volatile    0.7000  0.8800  0.760  0.280  0.7000  0.6600  0.6000  0.6500\n",
       "citric      0.0000  0.0000  0.040  0.560  0.0000  0.0000  0.0600  0.0000\n",
       "residsugar  1.9000  2.6000  2.300  1.900  1.9000  1.8000  1.6000  1.2000\n",
       "chlorides   0.0760  0.0980  0.092  0.075  0.0760  0.0750  0.0690  0.0650\n",
       "freeSD     11.0000 25.0000 15.000 17.000 11.0000 13.0000 15.0000 15.0000\n",
       "totalSD    34.0000 67.0000 54.000 60.000 34.0000 40.0000 59.0000 21.0000\n",
       "density     0.9978  0.9968  0.997  0.998  0.9978  0.9978  0.9964  0.9946\n",
       "pH          3.5100  3.2000  3.260  3.160  3.5100  3.5100  3.3000  3.3900\n",
       "sulphates   0.5600  0.6800  0.650  0.580  0.5600  0.5600  0.4600  0.4700\n",
       "alcohol     9.4000  9.8000  9.800  9.800  9.4000  9.4000  9.4000 10.0000\n",
       "quality     0.0000  0.0000  0.000  1.000  0.0000  0.0000  0.0000  1.0000\n",
       "           [,9]    [,10]   [,11] [,12]     [,13]    [,14]    [,15]    [,16]   \n",
       "fixed       7.8000  6.7000 ⋯       7.20000  6.30000  5.40000  6.30000  6.80000\n",
       "volatile    0.5800  0.5800 ⋯       0.66000  0.55000  0.74000  0.51000  0.62000\n",
       "citric      0.0200  0.0800 ⋯       0.33000  0.15000  0.09000  0.13000  0.08000\n",
       "residsugar  2.0000  1.8000 ⋯       2.50000  1.80000  1.70000  2.30000  1.90000\n",
       "chlorides   0.0730  0.0970 ⋯       0.06800  0.07700  0.08900  0.07600  0.06800\n",
       "freeSD      9.0000 15.0000 ⋯      34.00000 26.00000 16.00000 29.00000 28.00000\n",
       "totalSD    18.0000 65.0000 ⋯     102.00000 35.00000 26.00000 40.00000 38.00000\n",
       "density     0.9968  0.9959 ⋯       0.99414  0.99314  0.99402  0.99574  0.99651\n",
       "pH          3.3600  3.2800 ⋯       3.27000  3.32000  3.67000  3.42000  3.42000\n",
       "sulphates   0.5700  0.5400 ⋯       0.78000  0.82000  0.56000  0.75000  0.82000\n",
       "alcohol     9.5000  9.2000 ⋯      12.80000 11.60000 11.60000 11.00000  9.50000\n",
       "quality     1.0000  0.0000 ⋯       1.00000  1.00000  1.00000  1.00000  1.00000\n",
       "           [,17]   [,18]    [,19]    [,20]    [,21]   \n",
       "fixed       6.2000  5.90000  6.30000  5.90000  6.00000\n",
       "volatile    0.6000  0.55000  0.51000  0.64500  0.31000\n",
       "citric      0.0800  0.10000  0.13000  0.12000  0.47000\n",
       "residsugar  2.0000  2.20000  2.30000  2.00000  3.60000\n",
       "chlorides   0.0900  0.06200  0.07600  0.07500  0.06700\n",
       "freeSD     32.0000 39.00000 29.00000 32.00000 18.00000\n",
       "totalSD    44.0000 51.00000 40.00000 44.00000 42.00000\n",
       "density     0.9949  0.99512  0.99574  0.99547  0.99549\n",
       "pH          3.4500  3.52000  3.42000  3.57000  3.39000\n",
       "sulphates   0.5800  0.76000  0.75000  0.71000  0.66000\n",
       "alcohol    10.5000 11.20000 11.00000 10.20000 11.00000\n",
       "quality     0.0000  1.00000  1.00000  0.00000  1.00000"
      ]
     },
     "metadata": {},
     "output_type": "display_data"
    }
   ],
   "source": [
    "t(wine)"
   ]
  },
  {
   "cell_type": "code",
   "execution_count": 15,
   "id": "d2cfe29e",
   "metadata": {},
   "outputs": [],
   "source": [
    "fit.all <- glm(quality ~ ., family=binomial, data=wine)"
   ]
  },
  {
   "cell_type": "code",
   "execution_count": 16,
   "id": "c88fb198",
   "metadata": {},
   "outputs": [
    {
     "data": {
      "text/plain": [
       "\n",
       "Call:  glm(formula = quality ~ ., family = binomial, data = wine)\n",
       "\n",
       "Coefficients:\n",
       "(Intercept)        fixed     volatile       citric   residsugar    chlorides  \n",
       "  -33.26578      0.08769     -2.85624     -1.78931     -0.10784     -8.74247  \n",
       "     freeSD      totalSD      density           pH    sulphates      alcohol  \n",
       "    0.02387     -0.01344     27.73263     -1.57855      5.41717      0.97423  \n",
       "\n",
       "Degrees of Freedom: 1193 Total (i.e. Null);  1182 Residual\n",
       "Null Deviance:\t    1648 \n",
       "Residual Deviance: 1226 \tAIC: 1250"
      ]
     },
     "metadata": {},
     "output_type": "display_data"
    }
   ],
   "source": [
    "fit.all"
   ]
  },
  {
   "cell_type": "code",
   "execution_count": 17,
   "id": "5be7bf16",
   "metadata": {},
   "outputs": [
    {
     "data": {
      "text/plain": [
       "\n",
       "Call:\n",
       "glm(formula = quality ~ ., family = binomial, data = wine)\n",
       "\n",
       "Deviance Residuals: \n",
       "    Min       1Q   Median       3Q      Max  \n",
       "-2.8175  -0.8403   0.2863   0.8266   2.2948  \n",
       "\n",
       "Coefficients:\n",
       "              Estimate Std. Error z value Pr(>|z|)    \n",
       "(Intercept) -33.265781 112.097340  -0.297 0.766651    \n",
       "fixed         0.087689   0.127577   0.687 0.491870    \n",
       "volatile     -2.856240   0.632485  -4.516 6.30e-06 ***\n",
       "citric       -1.789308   0.699816  -2.557 0.010563 *  \n",
       "residsugar   -0.107844   0.208261  -0.518 0.604576    \n",
       "chlorides    -8.742472   5.615873  -1.557 0.119531    \n",
       "freeSD        0.023869   0.011050   2.160 0.030760 *  \n",
       "totalSD      -0.013439   0.004058  -3.311 0.000928 ***\n",
       "density      27.732633 114.373623   0.242 0.808413    \n",
       "pH           -1.578549   0.937586  -1.684 0.092253 .  \n",
       "sulphates     5.417175   0.754320   7.182 6.89e-13 ***\n",
       "alcohol       0.974233   0.143460   6.791 1.11e-11 ***\n",
       "---\n",
       "Signif. codes:  0 ‘***’ 0.001 ‘**’ 0.01 ‘*’ 0.05 ‘.’ 0.1 ‘ ’ 1\n",
       "\n",
       "(Dispersion parameter for binomial family taken to be 1)\n",
       "\n",
       "    Null deviance: 1647.5  on 1193  degrees of freedom\n",
       "Residual deviance: 1225.8  on 1182  degrees of freedom\n",
       "AIC: 1249.8\n",
       "\n",
       "Number of Fisher Scoring iterations: 4\n"
      ]
     },
     "metadata": {},
     "output_type": "display_data"
    }
   ],
   "source": [
    "summary(fit.all)"
   ]
  },
  {
   "cell_type": "code",
   "execution_count": 18,
   "id": "ce60d622",
   "metadata": {},
   "outputs": [
    {
     "name": "stdout",
     "output_type": "stream",
     "text": [
      "Start:  AIC=1249.78\n",
      "quality ~ fixed + volatile + citric + residsugar + chlorides + \n",
      "    freeSD + totalSD + density + pH + sulphates + alcohol\n",
      "\n",
      "             Df Deviance    AIC\n",
      "- density     1   1225.8 1247.8\n",
      "- residsugar  1   1226.0 1248.0\n",
      "- fixed       1   1226.2 1248.2\n",
      "<none>            1225.8 1249.8\n",
      "- chlorides   1   1228.2 1250.2\n",
      "- pH          1   1228.6 1250.6\n",
      "- freeSD      1   1230.5 1252.5\n",
      "- citric      1   1232.4 1254.4\n",
      "- totalSD     1   1237.1 1259.1\n",
      "- volatile    1   1247.3 1269.3\n",
      "- alcohol     1   1275.1 1297.1\n",
      "- sulphates   1   1283.4 1305.4\n",
      "\n",
      "Step:  AIC=1247.84\n",
      "quality ~ fixed + volatile + citric + residsugar + chlorides + \n",
      "    freeSD + totalSD + pH + sulphates + alcohol\n",
      "\n",
      "             Df Deviance    AIC\n",
      "- residsugar  1   1226.0 1246.0\n",
      "- fixed       1   1227.4 1247.4\n",
      "<none>            1225.8 1247.8\n",
      "- chlorides   1   1228.2 1248.2\n",
      "- pH          1   1229.4 1249.4\n",
      "+ density     1   1225.8 1249.8\n",
      "- freeSD      1   1230.5 1250.5\n",
      "- citric      1   1232.4 1252.4\n",
      "- totalSD     1   1237.2 1257.2\n",
      "- volatile    1   1247.5 1267.5\n",
      "- sulphates   1   1288.6 1308.6\n",
      "- alcohol     1   1347.2 1367.2\n",
      "\n",
      "Step:  AIC=1246.05\n",
      "quality ~ fixed + volatile + citric + chlorides + freeSD + totalSD + \n",
      "    pH + sulphates + alcohol\n",
      "\n",
      "             Df Deviance    AIC\n",
      "- fixed       1   1227.5 1245.5\n",
      "<none>            1226.0 1246.0\n",
      "- chlorides   1   1228.8 1246.8\n",
      "+ residsugar  1   1225.8 1247.8\n",
      "- pH          1   1229.9 1247.9\n",
      "+ density     1   1226.0 1248.0\n",
      "- freeSD      1   1230.8 1248.8\n",
      "- citric      1   1232.6 1250.6\n",
      "- totalSD     1   1238.7 1256.7\n",
      "- volatile    1   1248.1 1266.1\n",
      "- sulphates   1   1289.2 1307.2\n",
      "- alcohol     1   1351.7 1369.7\n",
      "\n",
      "Step:  AIC=1245.45\n",
      "quality ~ volatile + citric + chlorides + freeSD + totalSD + \n",
      "    pH + sulphates + alcohol\n",
      "\n",
      "             Df Deviance    AIC\n",
      "<none>            1227.5 1245.5\n",
      "- chlorides   1   1229.8 1245.8\n",
      "+ fixed       1   1226.0 1246.0\n",
      "+ density     1   1226.8 1246.8\n",
      "+ residsugar  1   1227.4 1247.4\n",
      "- freeSD      1   1232.5 1248.5\n",
      "- citric      1   1232.7 1248.7\n",
      "- pH          1   1238.3 1254.3\n",
      "- totalSD     1   1241.8 1257.8\n",
      "- volatile    1   1248.2 1264.2\n",
      "- sulphates   1   1295.2 1311.2\n",
      "- alcohol     1   1351.9 1367.9\n"
     ]
    }
   ],
   "source": [
    "fit.step <- step(fit.all, direction='both')"
   ]
  },
  {
   "cell_type": "code",
   "execution_count": 12,
   "id": "9e303df0",
   "metadata": {},
   "outputs": [
    {
     "data": {
      "text/plain": [
       "\n",
       "Call:\n",
       "glm(formula = quality ~ volatile + citric + chlorides + freeSD + \n",
       "    totalSD + pH + sulphates + alcohol, family = binomial, data = wine)\n",
       "\n",
       "Deviance Residuals: \n",
       "    Min       1Q   Median       3Q      Max  \n",
       "-2.8269  -0.8366   0.2804   0.8323   2.2659  \n",
       "\n",
       "Coefficients:\n",
       "             Estimate Std. Error z value Pr(>|z|)    \n",
       "(Intercept) -3.598450   2.246265  -1.602 0.109162    \n",
       "volatile    -2.625798   0.587804  -4.467 7.93e-06 ***\n",
       "citric      -1.304024   0.570926  -2.284 0.022369 *  \n",
       "chlorides   -8.134165   5.330701  -1.526 0.127033    \n",
       "freeSD       0.024636   0.010981   2.244 0.024862 *  \n",
       "totalSD     -0.014548   0.003919  -3.712 0.000205 ***\n",
       "pH          -2.029157   0.620285  -3.271 0.001070 ** \n",
       "sulphates    5.609315   0.722816   7.760 8.47e-15 ***\n",
       "alcohol      0.933382   0.091576  10.192  < 2e-16 ***\n",
       "---\n",
       "Signif. codes:  0 ‘***’ 0.001 ‘**’ 0.01 ‘*’ 0.05 ‘.’ 0.1 ‘ ’ 1\n",
       "\n",
       "(Dispersion parameter for binomial family taken to be 1)\n",
       "\n",
       "    Null deviance: 1647.5  on 1193  degrees of freedom\n",
       "Residual deviance: 1227.5  on 1185  degrees of freedom\n",
       "AIC: 1245.5\n",
       "\n",
       "Number of Fisher Scoring iterations: 4\n"
      ]
     },
     "metadata": {},
     "output_type": "display_data"
    }
   ],
   "source": [
    "fit.step$anova"
   ]
  },
  {
   "cell_type": "code",
   "execution_count": 19,
   "id": "8738a124",
   "metadata": {},
   "outputs": [
    {
     "data": {
      "text/plain": [
       "\n",
       "Call:\n",
       "glm(formula = quality ~ volatile + citric + chlorides + freeSD + \n",
       "    totalSD + pH + sulphates + alcohol, family = binomial, data = wine)\n",
       "\n",
       "Deviance Residuals: \n",
       "    Min       1Q   Median       3Q      Max  \n",
       "-2.8269  -0.8366   0.2804   0.8323   2.2659  \n",
       "\n",
       "Coefficients:\n",
       "             Estimate Std. Error z value Pr(>|z|)    \n",
       "(Intercept) -3.598450   2.246265  -1.602 0.109162    \n",
       "volatile    -2.625798   0.587804  -4.467 7.93e-06 ***\n",
       "citric      -1.304024   0.570926  -2.284 0.022369 *  \n",
       "chlorides   -8.134165   5.330701  -1.526 0.127033    \n",
       "freeSD       0.024636   0.010981   2.244 0.024862 *  \n",
       "totalSD     -0.014548   0.003919  -3.712 0.000205 ***\n",
       "pH          -2.029157   0.620285  -3.271 0.001070 ** \n",
       "sulphates    5.609315   0.722816   7.760 8.47e-15 ***\n",
       "alcohol      0.933382   0.091576  10.192  < 2e-16 ***\n",
       "---\n",
       "Signif. codes:  0 ‘***’ 0.001 ‘**’ 0.01 ‘*’ 0.05 ‘.’ 0.1 ‘ ’ 1\n",
       "\n",
       "(Dispersion parameter for binomial family taken to be 1)\n",
       "\n",
       "    Null deviance: 1647.5  on 1193  degrees of freedom\n",
       "Residual deviance: 1227.5  on 1185  degrees of freedom\n",
       "AIC: 1245.5\n",
       "\n",
       "Number of Fisher Scoring iterations: 4\n"
      ]
     },
     "metadata": {},
     "output_type": "display_data"
    }
   ],
   "source": [
    "summary(fit.step)"
   ]
  },
  {
   "cell_type": "code",
   "execution_count": 20,
   "id": "b448773d",
   "metadata": {},
   "outputs": [],
   "source": [
    "p <- predict(fit.step, newdata=wine, type=\"response\")"
   ]
  },
  {
   "cell_type": "code",
   "execution_count": 22,
   "id": "5bd0512b",
   "metadata": {},
   "outputs": [
    {
     "data": {
      "text/html": [
       "<table class=\"dataframe\">\n",
       "<caption>A matrix: 1 × 1194 of type dbl</caption>\n",
       "<thead>\n",
       "\t<tr><th scope=col>1</th><th scope=col>2</th><th scope=col>3</th><th scope=col>4</th><th scope=col>5</th><th scope=col>6</th><th scope=col>7</th><th scope=col>8</th><th scope=col>9</th><th scope=col>10</th><th scope=col>⋯</th><th scope=col>1185</th><th scope=col>1186</th><th scope=col>1187</th><th scope=col>1188</th><th scope=col>1189</th><th scope=col>1190</th><th scope=col>1191</th><th scope=col>1192</th><th scope=col>1193</th><th scope=col>1194</th></tr>\n",
       "</thead>\n",
       "<tbody>\n",
       "\t<tr><td>0.1845751</td><td>0.3550539</td><td>0.3469592</td><td>0.4651541</td><td>0.1845751</td><td>0.1961554</td><td>0.1618772</td><td>0.3365886</td><td>0.3693649</td><td>0.1637919</td><td>⋯</td><td>0.9385479</td><td>0.9505877</td><td>0.53856</td><td>0.874539</td><td>0.685718</td><td>0.5476729</td><td>0.8924355</td><td>0.874539</td><td>0.5862927</td><td>0.7945611</td></tr>\n",
       "</tbody>\n",
       "</table>\n"
      ],
      "text/latex": [
       "A matrix: 1 × 1194 of type dbl\n",
       "\\begin{tabular}{lllllllllllllllllllll}\n",
       " 1 & 2 & 3 & 4 & 5 & 6 & 7 & 8 & 9 & 10 & ⋯ & 1185 & 1186 & 1187 & 1188 & 1189 & 1190 & 1191 & 1192 & 1193 & 1194\\\\\n",
       "\\hline\n",
       "\t 0.1845751 & 0.3550539 & 0.3469592 & 0.4651541 & 0.1845751 & 0.1961554 & 0.1618772 & 0.3365886 & 0.3693649 & 0.1637919 & ⋯ & 0.9385479 & 0.9505877 & 0.53856 & 0.874539 & 0.685718 & 0.5476729 & 0.8924355 & 0.874539 & 0.5862927 & 0.7945611\\\\\n",
       "\\end{tabular}\n"
      ],
      "text/markdown": [
       "\n",
       "A matrix: 1 × 1194 of type dbl\n",
       "\n",
       "| 1 | 2 | 3 | 4 | 5 | 6 | 7 | 8 | 9 | 10 | ⋯ | 1185 | 1186 | 1187 | 1188 | 1189 | 1190 | 1191 | 1192 | 1193 | 1194 |\n",
       "|---|---|---|---|---|---|---|---|---|---|---|---|---|---|---|---|---|---|---|---|---|\n",
       "| 0.1845751 | 0.3550539 | 0.3469592 | 0.4651541 | 0.1845751 | 0.1961554 | 0.1618772 | 0.3365886 | 0.3693649 | 0.1637919 | ⋯ | 0.9385479 | 0.9505877 | 0.53856 | 0.874539 | 0.685718 | 0.5476729 | 0.8924355 | 0.874539 | 0.5862927 | 0.7945611 |\n",
       "\n"
      ],
      "text/plain": [
       "     1         2         3         4         5         6         7        \n",
       "[1,] 0.1845751 0.3550539 0.3469592 0.4651541 0.1845751 0.1961554 0.1618772\n",
       "     8         9         10        ⋯ 1185      1186      1187    1188    \n",
       "[1,] 0.3365886 0.3693649 0.1637919 ⋯ 0.9385479 0.9505877 0.53856 0.874539\n",
       "     1189     1190      1191      1192     1193      1194     \n",
       "[1,] 0.685718 0.5476729 0.8924355 0.874539 0.5862927 0.7945611"
      ]
     },
     "metadata": {},
     "output_type": "display_data"
    }
   ],
   "source": [
    "t(p)"
   ]
  },
  {
   "cell_type": "code",
   "execution_count": 23,
   "id": "481575c6",
   "metadata": {},
   "outputs": [],
   "source": [
    "cutoff <- 0.5"
   ]
  },
  {
   "cell_type": "code",
   "execution_count": 24,
   "id": "b179281c",
   "metadata": {},
   "outputs": [],
   "source": [
    "yhat <- ifelse(p > cutoff, 1, 0)"
   ]
  },
  {
   "cell_type": "code",
   "execution_count": 25,
   "id": "a55413fc",
   "metadata": {},
   "outputs": [
    {
     "data": {
      "text/html": [
       "<table class=\"dataframe\">\n",
       "<caption>A matrix: 1 × 1194 of type dbl</caption>\n",
       "<thead>\n",
       "\t<tr><th scope=col>1</th><th scope=col>2</th><th scope=col>3</th><th scope=col>4</th><th scope=col>5</th><th scope=col>6</th><th scope=col>7</th><th scope=col>8</th><th scope=col>9</th><th scope=col>10</th><th scope=col>⋯</th><th scope=col>1185</th><th scope=col>1186</th><th scope=col>1187</th><th scope=col>1188</th><th scope=col>1189</th><th scope=col>1190</th><th scope=col>1191</th><th scope=col>1192</th><th scope=col>1193</th><th scope=col>1194</th></tr>\n",
       "</thead>\n",
       "<tbody>\n",
       "\t<tr><td>0</td><td>0</td><td>0</td><td>0</td><td>0</td><td>0</td><td>0</td><td>0</td><td>0</td><td>0</td><td>⋯</td><td>1</td><td>1</td><td>1</td><td>1</td><td>1</td><td>1</td><td>1</td><td>1</td><td>1</td><td>1</td></tr>\n",
       "</tbody>\n",
       "</table>\n"
      ],
      "text/latex": [
       "A matrix: 1 × 1194 of type dbl\n",
       "\\begin{tabular}{lllllllllllllllllllll}\n",
       " 1 & 2 & 3 & 4 & 5 & 6 & 7 & 8 & 9 & 10 & ⋯ & 1185 & 1186 & 1187 & 1188 & 1189 & 1190 & 1191 & 1192 & 1193 & 1194\\\\\n",
       "\\hline\n",
       "\t 0 & 0 & 0 & 0 & 0 & 0 & 0 & 0 & 0 & 0 & ⋯ & 1 & 1 & 1 & 1 & 1 & 1 & 1 & 1 & 1 & 1\\\\\n",
       "\\end{tabular}\n"
      ],
      "text/markdown": [
       "\n",
       "A matrix: 1 × 1194 of type dbl\n",
       "\n",
       "| 1 | 2 | 3 | 4 | 5 | 6 | 7 | 8 | 9 | 10 | ⋯ | 1185 | 1186 | 1187 | 1188 | 1189 | 1190 | 1191 | 1192 | 1193 | 1194 |\n",
       "|---|---|---|---|---|---|---|---|---|---|---|---|---|---|---|---|---|---|---|---|---|\n",
       "| 0 | 0 | 0 | 0 | 0 | 0 | 0 | 0 | 0 | 0 | ⋯ | 1 | 1 | 1 | 1 | 1 | 1 | 1 | 1 | 1 | 1 |\n",
       "\n"
      ],
      "text/plain": [
       "     1 2 3 4 5 6 7 8 9 10 ⋯ 1185 1186 1187 1188 1189 1190 1191 1192 1193 1194\n",
       "[1,] 0 0 0 0 0 0 0 0 0 0  ⋯ 1    1    1    1    1    1    1    1    1    1   "
      ]
     },
     "metadata": {},
     "output_type": "display_data"
    }
   ],
   "source": [
    "t(yhat)"
   ]
  },
  {
   "cell_type": "code",
   "execution_count": 27,
   "id": "c164a201",
   "metadata": {},
   "outputs": [],
   "source": [
    "tab <- table(wine$quality, yhat, dnn=c('Observed', 'Predicated'))"
   ]
  },
  {
   "cell_type": "code",
   "execution_count": 28,
   "id": "d39c99a6",
   "metadata": {},
   "outputs": [
    {
     "data": {
      "text/plain": [
       "        Predicated\n",
       "Observed   0   1\n",
       "       0 402 147\n",
       "       1 150 495"
      ]
     },
     "metadata": {},
     "output_type": "display_data"
    }
   ],
   "source": [
    "tab"
   ]
  },
  {
   "cell_type": "code",
   "execution_count": 29,
   "id": "793a4929",
   "metadata": {},
   "outputs": [
    {
     "data": {
      "text/html": [
       "0.751256281407035"
      ],
      "text/latex": [
       "0.751256281407035"
      ],
      "text/markdown": [
       "0.751256281407035"
      ],
      "text/plain": [
       "[1] 0.7512563"
      ]
     },
     "metadata": {},
     "output_type": "display_data"
    }
   ],
   "source": [
    "sum(diag(tab))/sum(tab) #accuracy"
   ]
  },
  {
   "cell_type": "code",
   "execution_count": 31,
   "id": "b2b49f09",
   "metadata": {},
   "outputs": [
    {
     "data": {
      "text/html": [
       "0.767441860465116"
      ],
      "text/latex": [
       "0.767441860465116"
      ],
      "text/markdown": [
       "0.767441860465116"
      ],
      "text/plain": [
       "[1] 0.7674419"
      ]
     },
     "metadata": {},
     "output_type": "display_data"
    }
   ],
   "source": [
    "tab[2,2]/sum(tab[2,]) #sensitivity"
   ]
  },
  {
   "cell_type": "code",
   "execution_count": 32,
   "id": "e295249c",
   "metadata": {},
   "outputs": [
    {
     "data": {
      "text/html": [
       "0.73224043715847"
      ],
      "text/latex": [
       "0.73224043715847"
      ],
      "text/markdown": [
       "0.73224043715847"
      ],
      "text/plain": [
       "[1] 0.7322404"
      ]
     },
     "metadata": {},
     "output_type": "display_data"
    }
   ],
   "source": [
    "tab[1,1]/sum(tab[1,]) #specificity"
   ]
  },
  {
   "cell_type": "code",
   "execution_count": null,
   "id": "d8975c2b",
   "metadata": {},
   "outputs": [],
   "source": []
  }
 ],
 "metadata": {
  "kernelspec": {
   "display_name": "R",
   "language": "R",
   "name": "ir"
  },
  "language_info": {
   "codemirror_mode": "r",
   "file_extension": ".r",
   "mimetype": "text/x-r-source",
   "name": "R",
   "pygments_lexer": "r",
   "version": "4.0.3"
  }
 },
 "nbformat": 4,
 "nbformat_minor": 5
}
